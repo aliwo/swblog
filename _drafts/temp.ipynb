{
 "cells": [
  {
   "cell_type": "code",
   "execution_count": 10,
   "metadata": {
    "collapsed": true
   },
   "outputs": [],
   "source": []
  },
  {
   "cell_type": "code",
   "execution_count": null,
   "outputs": [],
   "source": [
    "import glob\n",
    "import subprocess\n",
    "from datetime import timedelta, datetime\n",
    "\n",
    "lengths = []\n",
    "\n",
    "\n",
    "def get_length(filename):\n",
    "    ffmpeg = subprocess.Popen(\n",
    "        ['ffmpeg', '-i', filename],\n",
    "        stderr=subprocess.PIPE\n",
    "    )\n",
    "    grep = subprocess.Popen(\n",
    "        ['grep', 'Duration'],\n",
    "        stdin=ffmpeg.stderr,\n",
    "        stdout=subprocess.PIPE\n",
    "    )\n",
    "    awk = subprocess.Popen(\n",
    "        ['awk', \"{print $2}\"],\n",
    "        stdin=grep.stdout,\n",
    "        stdout=subprocess.PIPE\n",
    "    )\n",
    "    trim = subprocess.Popen(\n",
    "        ['tr', '-d', ','],\n",
    "        stdin=awk.stdout,\n",
    "        stdout=subprocess.PIPE\n",
    "    )\n",
    "    for line in trim.stdout:\n",
    "        # 딱 첫 번째 줄만 출력.\n",
    "        return line.decode('utf-8')\n",
    "\n",
    "# root_dir needs a trailing slash (i.e. /root/dir/)\n",
    "for filename in glob.iglob('/Users/seungwonjeong/Desktop/old/Lectures/' + '**/*.mov', recursive=True):\n",
    "     lengths.append(get_length(filename))"
   ],
   "metadata": {
    "collapsed": false,
    "pycharm": {
     "name": "#%%\n"
    }
   }
  },
  {
   "cell_type": "code",
   "execution_count": 11,
   "outputs": [],
   "source": [
    "deltas = []\n",
    "for elem in lengths:\n",
    "    datetime = datetime.strptime(elem[:-4], '%H:%M:%S')\n",
    "    delta = timedelta(hours=datetime.hour, minutes=datetime.minute, seconds=datetime.second)\n",
    "    deltas.append(delta)"
   ],
   "metadata": {
    "collapsed": false,
    "pycharm": {
     "name": "#%%\n"
    }
   }
  },
  {
   "cell_type": "code",
   "execution_count": 16,
   "outputs": [
    {
     "name": "stdout",
     "output_type": "stream",
     "text": [
      "20:40:38\n"
     ]
    }
   ],
   "source": [
    "print(sum(deltas, timedelta(0)))"
   ],
   "metadata": {
    "collapsed": false,
    "pycharm": {
     "name": "#%%\n"
    }
   }
  },
  {
   "cell_type": "code",
   "execution_count": 20,
   "outputs": [
    {
     "name": "stdout",
     "output_type": "stream",
     "text": [
      "55\n"
     ]
    }
   ],
   "source": [
    "def fibo_deco(func):\n",
    "    res = {}\n",
    "\n",
    "    def inner(*args):\n",
    "        n = args[0]\n",
    "        if res.get(n):\n",
    "            return res.get(n)\n",
    "        r = func(n)\n",
    "        res[n] = r\n",
    "        return r\n",
    "\n",
    "    return inner\n",
    "\n",
    "\n",
    "@fibo_deco\n",
    "def fibo(n):\n",
    "    if n < 3:\n",
    "        return 1\n",
    "\n",
    "    return fibo(n - 1) + fibo(n - 2)\n",
    "\n",
    "print(fibo(10))"
   ],
   "metadata": {
    "collapsed": false,
    "pycharm": {
     "name": "#%%\n"
    }
   }
  },
  {
   "cell_type": "code",
   "execution_count": null,
   "outputs": [],
   "source": [],
   "metadata": {
    "collapsed": false,
    "pycharm": {
     "name": "#%%\n"
    }
   }
  }
 ],
 "metadata": {
  "kernelspec": {
   "display_name": "Python 3",
   "language": "python",
   "name": "python3"
  },
  "language_info": {
   "codemirror_mode": {
    "name": "ipython",
    "version": 2
   },
   "file_extension": ".py",
   "mimetype": "text/x-python",
   "name": "python",
   "nbconvert_exporter": "python",
   "pygments_lexer": "ipython2",
   "version": "2.7.6"
  }
 },
 "nbformat": 4,
 "nbformat_minor": 0
}